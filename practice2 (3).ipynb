{
 "cells": [
  {
   "cell_type": "code",
   "execution_count": 3,
   "metadata": {},
   "outputs": [
    {
     "name": "stdout",
     "output_type": "stream",
     "text": [
      "the hallway is 11.25 sqm\n",
      "the kitchen is 18.0 sqm\n",
      "the living room is 20.0 sqm\n",
      "the bedroom is 10.75 sqm\n",
      "the bathroom is 9.5 sqm\n"
     ]
    }
   ],
   "source": [
    "# 1. Iterate Area List\n",
    "# A list of areas\n",
    "house = [[\"hallway\", 11.25], \n",
    "         [\"kitchen\", 18.0], \n",
    "         [\"living room\", 20.0], \n",
    "         [\"bedroom\", 10.75], \n",
    "         [\"bathroom\", 9.50]]\n",
    "#################### TODO ####################\n",
    "# Write code printing the output described in the problem.\n",
    "for x,y in house :\n",
    "    print(\"the\",x,\"is\",y,\"sqm\")\n",
    "##############################################"
   ]
  },
  {
   "cell_type": "code",
   "execution_count": 8,
   "metadata": {},
   "outputs": [
    {
     "name": "stdout",
     "output_type": "stream",
     "text": [
      "['Ximena', 'Aliza', 'Ayden', 'Calvin', 'Aliza']\n",
      "1\n",
      "1\n",
      "4\n",
      "['Ximena', 'Aliza', 'Ayden', 'Calvin', 'Aliza']\n"
     ]
    }
   ],
   "source": [
    "# Recreate a list containing the names: baby_names\n",
    "baby_names = ['Ximena', 'Aliza', 'Ayden', 'Calvin']\n",
    "\n",
    "#################### TODO ####################\n",
    "# Append ‘Aliza‘ to baby_names\n",
    "baby_names.append(\"Aliza\")\n",
    "\n",
    "# Print baby_names\n",
    "print(baby_names)\n",
    "\n",
    "# Find the position of 'Aliza': position\n",
    "print(baby_names.index(\"Aliza\"))\n",
    "\n",
    "# Find all positions that 'Aliza' occurs\n",
    "for x,s in enumerate(baby_names) :\n",
    "    if s==\"Aliza\" : print(x)\n",
    "# Print baby_names\n",
    "print(baby_names)\n",
    "##############################################"
   ]
  },
  {
   "cell_type": "code",
   "execution_count": 9,
   "metadata": {},
   "outputs": [
    {
     "name": "stdout",
     "output_type": "stream",
     "text": [
      "<class 'str'>\n",
      "<class 'tuple'>\n"
     ]
    }
   ],
   "source": [
    "# 3. Common mistake\n",
    "# Understand the tuple type\n",
    "# Create the normal variable: normal\n",
    "normal = 'simple'\n",
    "# Create the mistaken variable: error\n",
    "error = 'trailing comma', \n",
    "#################### TODO ####################\n",
    "# TODO. Print the types of the above variables\n",
    "print(type(normal))\n",
    "print(type(error))\n",
    "##############################################"
   ]
  },
  {
   "cell_type": "code",
   "execution_count": 14,
   "metadata": {},
   "outputs": [
    {
     "name": "stdout",
     "output_type": "stream",
     "text": [
      "HAZEL\n",
      "JOHN\n",
      "HENRY\n",
      "JAMIE\n",
      "ALEXIS\n",
      "ISABELA\n",
      "DARREN\n",
      "AARON\n",
      "BLAKE\n",
      "MARCUS\n",
      "ARMAAN\n",
      "##################################\n",
      "BLAKE\n",
      "ALEXIS\n"
     ]
    }
   ],
   "source": [
    "# Lists of baby names\n",
    "girl_names = ['ALEXIS', 'BLAKE', 'HAZEL', 'ISABELA', 'JAMIE']\n",
    "boy_names = ['AARON', 'ALEXIS', 'ARMAAN', 'BLAKE', 'DARREN', 'HENRY', 'JOHN', 'MARCUS']\n",
    "# Hint. Convert lists to sets\n",
    "#################### TODO ####################\n",
    "g_set = set(girl_names)\n",
    "b_set = set(boy_names)\n",
    "# TODO. Find and print the union: all_names\n",
    "for s in g_set|b_set :\n",
    "    print(s)\n",
    "print(\"##################################\")\n",
    "# TODO. Find and print the intersection: overlapping_names\n",
    "for s in g_set&b_set :\n",
    "    print(s)\n",
    "##############################################"
   ]
  },
  {
   "cell_type": "code",
   "execution_count": 5,
   "metadata": {},
   "outputs": [
    {
     "name": "stdout",
     "output_type": "stream",
     "text": [
      "dict_keys(['spain', 'france', 'germany', 'norway'])\n",
      "oslo\n",
      "True\n",
      "{'spain': 'madrid', 'france': 'paris', 'germany': 'berlin', 'norway': 'oslo', 'italy': 'rome', 'poland': 'warsaw'}\n",
      "{'spain': 'madrid', 'france': 'paris', 'germany': 'berlin', 'norway': 'oslo', 'italy': 'rome', 'england': 'london', 'nethaland': 'amsterdam'}\n",
      "the capital of spain is madrid\n",
      "the capital of france is paris\n",
      "the capital of germany is berlin\n",
      "the capital of norway is oslo\n",
      "the capital of italy is rome\n",
      "the capital of england is london\n",
      "the capital of nethaland is amsterdam\n"
     ]
    }
   ],
   "source": [
    "# Definition of dictionary\n",
    "europe = {'spain':'madrid', 'france':'paris', 'germany':'berlin', 'norway':'oslo' }\n",
    "\n",
    "# Print out the keys in europe\n",
    "print(europe.keys())\n",
    "# Print out value that belongs to key 'norway'\n",
    "print(europe['norway'])\n",
    "\n",
    "# Add italy to europe\n",
    "europe['italy']='rome'\n",
    "# Print out italy in europe\n",
    "print('italy' in europe)\n",
    "#################### TODO ####################\n",
    "# TODO. Add poland to europe\n",
    "europe[\"poland\"] = \"warsaw\" \n",
    "# TODO. Print europe\n",
    "print(europe)\n",
    "\n",
    "# TODO. Update capital of england to london, that of nethaland to amsterdam\n",
    "europe[\"england\"] = \"london\"\n",
    "europe[\"nethaland\"] = \"amsterdam\"\n",
    "\n",
    "# TODO. Remove poland\n",
    "del(europe[\"poland\"])\n",
    "##############################################\n",
    "# Print europe\n",
    "print(europe)\n",
    "#################### TODO ####################\n",
    "# Iterate over europe to print out the following output\n",
    "for x in europe :\n",
    "    print(\"the capital of\",x,\"is\",europe[x])\n",
    "##############################################"
   ]
  },
  {
   "cell_type": "code",
   "execution_count": null,
   "metadata": {},
   "outputs": [],
   "source": []
  }
 ],
 "metadata": {
  "kernelspec": {
   "display_name": "Python 3",
   "language": "python",
   "name": "python3"
  },
  "language_info": {
   "codemirror_mode": {
    "name": "ipython",
    "version": 3
   },
   "file_extension": ".py",
   "mimetype": "text/x-python",
   "name": "python",
   "nbconvert_exporter": "python",
   "pygments_lexer": "ipython3",
   "version": "3.8.5"
  }
 },
 "nbformat": 4,
 "nbformat_minor": 4
}
