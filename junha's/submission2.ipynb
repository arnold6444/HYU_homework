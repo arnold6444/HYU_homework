{
 "cells": [
  {
   "cell_type": "code",
   "execution_count": 6,
   "metadata": {},
   "outputs": [
    {
     "name": "stdout",
     "output_type": "stream",
     "text": [
      "[[1, 0, 0], [0, 1, 0], [1, 1, 1]]\n",
      "[[1, 1, 0, 0], [0, 1, 1, 0], [0, 0, 0, 1], [1, 0, 1, 0]]\n"
     ]
    }
   ],
   "source": [
    "from typing import List\n",
    "\n",
    "def P1(image: List[List[int]]) -> List[List[int]]:\n",
    "    ### TODO: your code here ###\n",
    "    n = len(image)\n",
    "    ans = []\n",
    "    for y in image :\n",
    "        x = []\n",
    "        while y :\n",
    "            if y.pop()==1 : x.append(0)\n",
    "            else : x.append(1)\n",
    "        ans.append(x)\n",
    "    print(ans)\n",
    "    return\n",
    "P1([[1,1,0],[1,0,1],[0,0,0]])\n",
    "P1([[1,1,0,0],[1,0,0,1],[0,1,1,1],[1,0,1,0]])"
   ]
  },
  {
   "cell_type": "code",
   "execution_count": 34,
   "metadata": {},
   "outputs": [
    {
     "name": "stdout",
     "output_type": "stream",
     "text": [
      "2\n",
      "1\n"
     ]
    }
   ],
   "source": [
    "from typing import List\n",
    "\n",
    "def P2(words: List[str]) -> int:\n",
    "    ### TODO: your code here ###\n",
    "    morse = [\".-\",\"-...\",\"-.-.\",\"-..\",\".\",\"..-.\",\"--.\",\"....\",\"..\",\".---\",\"-.-\",\".-..\",\"--\",\"-.\",\"---\",\".--.\",\"--.-\",\".-.\",\"...\",\"-\",\"..-\",\"...-\",\".--\",\"-..-\",\"-.--\",\"--..\"]\n",
    "    m_set = set()\n",
    "    for s in words :\n",
    "        x = \"\"\n",
    "        for i in list(s.rstrip()) :\n",
    "            x += morse[ord(i)-97]\n",
    "        m_set.add(x)\n",
    "    print(len(m_set))\n",
    "    return\n",
    "P2([\"gin\",\"zen\",\"gig\",\"msg\"])\n",
    "P2([\"a\"])"
   ]
  },
  {
   "cell_type": "code",
   "execution_count": 33,
   "metadata": {},
   "outputs": [
    {
     "name": "stdout",
     "output_type": "stream",
     "text": [
      "2\n",
      "3\n"
     ]
    }
   ],
   "source": [
    "from typing import List\n",
    "\n",
    "def P3(emails: List[str]) -> int:\n",
    "    ### TODO: your code here ###\n",
    "    ans = set()\n",
    "    for x in emails :\n",
    "        y = list(x.split(\"@\")[0].rstrip())\n",
    "        check = \"\"\n",
    "        for i in y :\n",
    "            if i not in [\"+\",\".\"] :\n",
    "                check += i\n",
    "        ans.add(check)\n",
    "    print(len(ans))\n",
    "    return\n",
    "P3([\"hong.gildong+ta@hanyang.ac.kr\",\"difficult.tomakeexample@hanyang.ac.kr\",\"difficulttomake.example@hanyang.ac.kr\"])\n",
    "P3([\"a@hanyang.ac.kr\",\"b@hanyang.ac.kr\",\"c@hanyang.ac.kr\"])"
   ]
  },
  {
   "cell_type": "code",
   "execution_count": null,
   "metadata": {},
   "outputs": [],
   "source": []
  }
 ],
 "metadata": {
  "kernelspec": {
   "display_name": "Python 3",
   "language": "python",
   "name": "python3"
  },
  "language_info": {
   "codemirror_mode": {
    "name": "ipython",
    "version": 3
   },
   "file_extension": ".py",
   "mimetype": "text/x-python",
   "name": "python",
   "nbconvert_exporter": "python",
   "pygments_lexer": "ipython3",
   "version": "3.8.5"
  }
 },
 "nbformat": 4,
 "nbformat_minor": 4
}
